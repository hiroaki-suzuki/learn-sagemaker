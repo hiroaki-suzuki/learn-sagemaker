{
 "cells": [
  {
   "cell_type": "code",
   "execution_count": 1,
   "id": "e3078420-c4cb-4f8e-b118-7432eb852fee",
   "metadata": {
    "tags": [],
    "ExecuteTime": {
     "end_time": "2023-10-10T22:19:43.760795Z",
     "start_time": "2023-10-10T22:19:42.293447Z"
    }
   },
   "outputs": [
    {
     "name": "stdout",
     "output_type": "stream",
     "text": [
      "sagemaker.config INFO - Not applying SDK defaults from location: /Library/Application Support/sagemaker/config.yaml\n",
      "sagemaker.config INFO - Not applying SDK defaults from location: /Users/hiroaki/Library/Application Support/sagemaker/config.yaml\n"
     ]
    }
   ],
   "source": [
    "from sagemaker.sklearn import SKLearn\n",
    "\n",
    "from common.utils import get_role, get_training_instance_type, generate_sagemaker_session"
   ]
  },
  {
   "cell_type": "code",
   "execution_count": 2,
   "id": "a037fcbd-7b54-491d-af42-3d4e8fc44b90",
   "metadata": {
    "tags": [],
    "ExecuteTime": {
     "end_time": "2023-10-10T22:19:49.934694Z",
     "start_time": "2023-10-10T22:19:44.546265Z"
    }
   },
   "outputs": [
    {
     "name": "stdout",
     "output_type": "stream",
     "text": [
      "sagemaker.config INFO - Not applying SDK defaults from location: /Library/Application Support/sagemaker/config.yaml\n",
      "sagemaker.config INFO - Not applying SDK defaults from location: /Users/hiroaki/Library/Application Support/sagemaker/config.yaml\n",
      "sagemaker.config INFO - Not applying SDK defaults from location: /Library/Application Support/sagemaker/config.yaml\n",
      "sagemaker.config INFO - Not applying SDK defaults from location: /Users/hiroaki/Library/Application Support/sagemaker/config.yaml\n"
     ]
    },
    {
     "name": "stderr",
     "output_type": "stream",
     "text": [
      "INFO:sagemaker:Creating training-job with name: sagemaker-scikit-learn-2023-10-10-22-19-44-683\n",
      "INFO:sagemaker.local.image:'Docker Compose' found using Docker CLI.\n",
      "INFO:sagemaker.local.local_session:Starting training job\n",
      "INFO:sagemaker.local.image:Using the long-lived AWS credentials found in session\n",
      "INFO:sagemaker.local.image:docker compose file: \n",
      "networks:\n",
      "  sagemaker-local:\n",
      "    name: sagemaker-local\n",
      "services:\n",
      "  algo-1-xk7wy:\n",
      "    command: train\n",
      "    container_name: vcjlk6uq9c-algo-1-xk7wy\n",
      "    environment:\n",
      "    - '[Masked]'\n",
      "    - '[Masked]'\n",
      "    - '[Masked]'\n",
      "    - '[Masked]'\n",
      "    image: 354813040037.dkr.ecr.ap-northeast-1.amazonaws.com/sagemaker-scikit-learn:0.23-1-cpu-py3\n",
      "    networks:\n",
      "      sagemaker-local:\n",
      "        aliases:\n",
      "        - algo-1-xk7wy\n",
      "    stdin_open: true\n",
      "    tty: true\n",
      "    volumes:\n",
      "    - /private/var/folders/qg/p9z2yjzn6dl4fj3f9xr86w8w0000gn/T/tmpkj_pit_0/algo-1-xk7wy/output:/opt/ml/output\n",
      "    - /private/var/folders/qg/p9z2yjzn6dl4fj3f9xr86w8w0000gn/T/tmpkj_pit_0/algo-1-xk7wy/input:/opt/ml/input\n",
      "    - /private/var/folders/qg/p9z2yjzn6dl4fj3f9xr86w8w0000gn/T/tmpkj_pit_0/algo-1-xk7wy/output/data:/opt/ml/output/data\n",
      "    - /private/var/folders/qg/p9z2yjzn6dl4fj3f9xr86w8w0000gn/T/tmpkj_pit_0/model:/opt/ml/model\n",
      "version: '2.3'\n",
      "\n",
      "INFO:sagemaker.local.image:docker command: docker compose -f /private/var/folders/qg/p9z2yjzn6dl4fj3f9xr86w8w0000gn/T/tmpkj_pit_0/docker-compose.yaml up --build --abort-on-container-exit\n"
     ]
    },
    {
     "name": "stdout",
     "output_type": "stream",
     "text": [
      "time=\"2023-10-11T07:19:45+09:00\" level=warning msg=\"a network with name sagemaker-local exists but was not created for project \\\"tmpkj_pit_0\\\".\\nSet `external: true` to use an existing network\"\n",
      " Container vcjlk6uq9c-algo-1-xk7wy  Creating\n",
      " algo-1-xk7wy The requested image's platform (linux/amd64) does not match the detected host platform (linux/arm64/v8) and no specific platform was requested \n",
      " Container vcjlk6uq9c-algo-1-xk7wy  Created\n",
      "Attaching to vcjlk6uq9c-algo-1-xk7wy\n",
      "vcjlk6uq9c-algo-1-xk7wy  | 2023-10-10 22:19:48,453 sagemaker-containers INFO     Imported framework sagemaker_sklearn_container.training\r\n",
      "vcjlk6uq9c-algo-1-xk7wy  | 2023-10-10 22:19:48,461 sagemaker-training-toolkit INFO     No GPUs detected (normal if no gpus installed)\r\n",
      "vcjlk6uq9c-algo-1-xk7wy  | 2023-10-10 22:19:48,549 sagemaker_sklearn_container.training INFO     Invoking user training script.\r\n",
      "vcjlk6uq9c-algo-1-xk7wy  | 2023-10-10 22:19:49,157 sagemaker-training-toolkit INFO     No GPUs detected (normal if no gpus installed)\r\n",
      "vcjlk6uq9c-algo-1-xk7wy  | 2023-10-10 22:19:49,214 sagemaker-training-toolkit INFO     No GPUs detected (normal if no gpus installed)\r\n",
      "vcjlk6uq9c-algo-1-xk7wy  | 2023-10-10 22:19:49,268 sagemaker-training-toolkit INFO     No GPUs detected (normal if no gpus installed)\r\n",
      "vcjlk6uq9c-algo-1-xk7wy  | 2023-10-10 22:19:49,317 sagemaker-training-toolkit INFO     Invoking user script\r\n",
      "vcjlk6uq9c-algo-1-xk7wy  | \r\n",
      "vcjlk6uq9c-algo-1-xk7wy  | Training Env:\r\n",
      "vcjlk6uq9c-algo-1-xk7wy  | \r\n",
      "vcjlk6uq9c-algo-1-xk7wy  | {\r\n",
      "vcjlk6uq9c-algo-1-xk7wy  |     \"additional_framework_parameters\": {},\r\n",
      "vcjlk6uq9c-algo-1-xk7wy  |     \"channel_input_dirs\": {},\r\n",
      "vcjlk6uq9c-algo-1-xk7wy  |     \"current_host\": \"algo-1-xk7wy\",\r\n",
      "vcjlk6uq9c-algo-1-xk7wy  |     \"framework_module\": \"sagemaker_sklearn_container.training:main\",\r\n",
      "vcjlk6uq9c-algo-1-xk7wy  |     \"hosts\": [\r\n",
      "vcjlk6uq9c-algo-1-xk7wy  |         \"algo-1-xk7wy\"\r\n",
      "vcjlk6uq9c-algo-1-xk7wy  |     ],\r\n",
      "vcjlk6uq9c-algo-1-xk7wy  |     \"hyperparameters\": {},\r\n",
      "vcjlk6uq9c-algo-1-xk7wy  |     \"input_config_dir\": \"/opt/ml/input/config\",\r\n",
      "vcjlk6uq9c-algo-1-xk7wy  |     \"input_data_config\": {},\r\n",
      "vcjlk6uq9c-algo-1-xk7wy  |     \"input_dir\": \"/opt/ml/input\",\r\n",
      "vcjlk6uq9c-algo-1-xk7wy  |     \"is_master\": true,\r\n",
      "vcjlk6uq9c-algo-1-xk7wy  |     \"job_name\": \"sagemaker-scikit-learn-2023-10-10-22-19-44-683\",\r\n",
      "vcjlk6uq9c-algo-1-xk7wy  |     \"log_level\": 20,\r\n",
      "vcjlk6uq9c-algo-1-xk7wy  |     \"master_hostname\": \"algo-1-xk7wy\",\r\n",
      "vcjlk6uq9c-algo-1-xk7wy  |     \"model_dir\": \"/opt/ml/model\",\r\n",
      "vcjlk6uq9c-algo-1-xk7wy  |     \"module_dir\": \"s3://sagemaker-ap-northeast-1-605393708398/learn-sagemaker/jobs/sagemaker-scikit-learn-2023-10-10-22-19-44-683/source/sourcedir.tar.gz\",\r\n",
      "vcjlk6uq9c-algo-1-xk7wy  |     \"module_name\": \"training\",\r\n",
      "vcjlk6uq9c-algo-1-xk7wy  |     \"network_interface_name\": \"eth0\",\r\n",
      "vcjlk6uq9c-algo-1-xk7wy  |     \"num_cpus\": 11,\r\n",
      "vcjlk6uq9c-algo-1-xk7wy  |     \"num_gpus\": 0,\r\n",
      "vcjlk6uq9c-algo-1-xk7wy  |     \"output_data_dir\": \"/opt/ml/output/data\",\r\n",
      "vcjlk6uq9c-algo-1-xk7wy  |     \"output_dir\": \"/opt/ml/output\",\r\n",
      "vcjlk6uq9c-algo-1-xk7wy  |     \"output_intermediate_dir\": \"/opt/ml/output/intermediate\",\r\n",
      "vcjlk6uq9c-algo-1-xk7wy  |     \"resource_config\": {\r\n",
      "vcjlk6uq9c-algo-1-xk7wy  |         \"current_host\": \"algo-1-xk7wy\",\r\n",
      "vcjlk6uq9c-algo-1-xk7wy  |         \"hosts\": [\r\n",
      "vcjlk6uq9c-algo-1-xk7wy  |             \"algo-1-xk7wy\"\r\n",
      "vcjlk6uq9c-algo-1-xk7wy  |         ]\r\n",
      "vcjlk6uq9c-algo-1-xk7wy  |     },\r\n",
      "vcjlk6uq9c-algo-1-xk7wy  |     \"user_entry_point\": \"training.py\"\r\n",
      "vcjlk6uq9c-algo-1-xk7wy  | }\r\n",
      "vcjlk6uq9c-algo-1-xk7wy  | \r\n",
      "vcjlk6uq9c-algo-1-xk7wy  | Environment variables:\r\n",
      "vcjlk6uq9c-algo-1-xk7wy  | \r\n",
      "vcjlk6uq9c-algo-1-xk7wy  | SM_HOSTS=[\"algo-1-xk7wy\"]\r\n",
      "vcjlk6uq9c-algo-1-xk7wy  | SM_NETWORK_INTERFACE_NAME=eth0\r\n",
      "vcjlk6uq9c-algo-1-xk7wy  | SM_HPS={}\r\n",
      "vcjlk6uq9c-algo-1-xk7wy  | SM_USER_ENTRY_POINT=training.py\r\n",
      "vcjlk6uq9c-algo-1-xk7wy  | SM_FRAMEWORK_PARAMS={}\r\n",
      "vcjlk6uq9c-algo-1-xk7wy  | SM_RESOURCE_CONFIG={\"current_host\":\"algo-1-xk7wy\",\"hosts\":[\"algo-1-xk7wy\"]}\r\n",
      "vcjlk6uq9c-algo-1-xk7wy  | SM_INPUT_DATA_CONFIG={}\r\n",
      "vcjlk6uq9c-algo-1-xk7wy  | SM_OUTPUT_DATA_DIR=/opt/ml/output/data\r\n",
      "vcjlk6uq9c-algo-1-xk7wy  | SM_CHANNELS=[]\r\n",
      "vcjlk6uq9c-algo-1-xk7wy  | SM_CURRENT_HOST=algo-1-xk7wy\r\n",
      "vcjlk6uq9c-algo-1-xk7wy  | SM_MODULE_NAME=training\r\n",
      "vcjlk6uq9c-algo-1-xk7wy  | SM_LOG_LEVEL=20\r\n",
      "vcjlk6uq9c-algo-1-xk7wy  | SM_FRAMEWORK_MODULE=sagemaker_sklearn_container.training:main\r\n",
      "vcjlk6uq9c-algo-1-xk7wy  | SM_INPUT_DIR=/opt/ml/input\r\n",
      "vcjlk6uq9c-algo-1-xk7wy  | SM_INPUT_CONFIG_DIR=/opt/ml/input/config\r\n",
      "vcjlk6uq9c-algo-1-xk7wy  | SM_OUTPUT_DIR=/opt/ml/output\r\n",
      "vcjlk6uq9c-algo-1-xk7wy  | SM_NUM_CPUS=11\r\n",
      "vcjlk6uq9c-algo-1-xk7wy  | SM_NUM_GPUS=0\r\n",
      "vcjlk6uq9c-algo-1-xk7wy  | SM_MODEL_DIR=/opt/ml/model\r\n",
      "vcjlk6uq9c-algo-1-xk7wy  | SM_MODULE_DIR=s3://sagemaker-ap-northeast-1-605393708398/learn-sagemaker/jobs/sagemaker-scikit-learn-2023-10-10-22-19-44-683/source/sourcedir.tar.gz\r\n",
      "vcjlk6uq9c-algo-1-xk7wy  | SM_TRAINING_ENV={\"additional_framework_parameters\":{},\"channel_input_dirs\":{},\"current_host\":\"algo-1-xk7wy\",\"framework_module\":\"sagemaker_sklearn_container.training:main\",\"hosts\":[\"algo-1-xk7wy\"],\"hyperparameters\":{},\"input_config_dir\":\"/opt/ml/input/config\",\"input_data_config\":{},\"input_dir\":\"/opt/ml/input\",\"is_master\":true,\"job_name\":\"sagemaker-scikit-learn-2023-10-10-22-19-44-683\",\"log_level\":20,\"master_hostname\":\"algo-1-xk7wy\",\"model_dir\":\"/opt/ml/model\",\"module_dir\":\"s3://sagemaker-ap-northeast-1-605393708398/learn-sagemaker/jobs/sagemaker-scikit-learn-2023-10-10-22-19-44-683/source/sourcedir.tar.gz\",\"module_name\":\"training\",\"network_interface_name\":\"eth0\",\"num_cpus\":11,\"num_gpus\":0,\"output_data_dir\":\"/opt/ml/output/data\",\"output_dir\":\"/opt/ml/output\",\"output_intermediate_dir\":\"/opt/ml/output/intermediate\",\"resource_config\":{\"current_host\":\"algo-1-xk7wy\",\"hosts\":[\"algo-1-xk7wy\"]},\"user_entry_point\":\"training.py\"}\r\n",
      "vcjlk6uq9c-algo-1-xk7wy  | SM_USER_ARGS=[]\r\n",
      "vcjlk6uq9c-algo-1-xk7wy  | SM_OUTPUT_INTERMEDIATE_DIR=/opt/ml/output/intermediate\r\n",
      "vcjlk6uq9c-algo-1-xk7wy  | PYTHONPATH=/opt/ml/code:/miniconda3/bin:/miniconda3/lib/python37.zip:/miniconda3/lib/python3.7:/miniconda3/lib/python3.7/lib-dynload:/miniconda3/lib/python3.7/site-packages\r\n",
      "vcjlk6uq9c-algo-1-xk7wy  | \r\n",
      "vcjlk6uq9c-algo-1-xk7wy  | Invoking script with the following command:\r\n",
      "vcjlk6uq9c-algo-1-xk7wy  | \r\n",
      "vcjlk6uq9c-algo-1-xk7wy  | /miniconda3/bin/python training.py\r\n",
      "vcjlk6uq9c-algo-1-xk7wy  | \r\n",
      "vcjlk6uq9c-algo-1-xk7wy  | \r\n"
     ]
    },
    {
     "name": "stderr",
     "output_type": "stream",
     "text": [
      "INFO:root:copying /private/var/folders/qg/p9z2yjzn6dl4fj3f9xr86w8w0000gn/T/tmpkj_pit_0/algo-1-xk7wy/output/success -> /private/var/folders/qg/p9z2yjzn6dl4fj3f9xr86w8w0000gn/T/tmpkj_pit_0/artifacts/output\n",
      "INFO:root:creating /private/var/folders/qg/p9z2yjzn6dl4fj3f9xr86w8w0000gn/T/tmpkj_pit_0/artifacts/output/data\n"
     ]
    },
    {
     "name": "stdout",
     "output_type": "stream",
     "text": [
      "vcjlk6uq9c-algo-1-xk7wy  | Hello Sagemaker Training\r\n",
      "vcjlk6uq9c-algo-1-xk7wy  | 2023-10-10 22:19:49,518 sagemaker-containers INFO     Reporting training SUCCESS\r\n",
      "vcjlk6uq9c-algo-1-xk7wy exited with code 0\n",
      "Aborting on container exit...\n",
      " Container vcjlk6uq9c-algo-1-xk7wy  Stopping\n",
      " Container vcjlk6uq9c-algo-1-xk7wy  Stopped\n",
      "===== Job Complete =====\n"
     ]
    }
   ],
   "source": [
    "instance_type = get_training_instance_type()\n",
    "estimator = SKLearn(\n",
    "    entry_point='./training.py',\n",
    "    py_version='py3',\n",
    "    framework_version='0.23-1',\n",
    "    instance_count=1,\n",
    "    instance_type=instance_type,\n",
    "    role=get_role(),\n",
    "    sagemaker_session=generate_sagemaker_session(instance_type),\n",
    ")\n",
    "estimator.fit()"
   ]
  }
 ],
 "metadata": {
  "kernelspec": {
   "name": "python3",
   "language": "python",
   "display_name": "Python 3 (ipykernel)"
  },
  "language_info": {
   "codemirror_mode": {
    "name": "ipython",
    "version": 3
   },
   "file_extension": ".py",
   "mimetype": "text/x-python",
   "name": "python",
   "nbconvert_exporter": "python",
   "pygments_lexer": "ipython3",
   "version": "3.10.12"
  }
 },
 "nbformat": 4,
 "nbformat_minor": 5
}

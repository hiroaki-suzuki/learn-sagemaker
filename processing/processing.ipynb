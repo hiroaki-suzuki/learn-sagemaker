{
 "cells": [
  {
   "cell_type": "code",
   "execution_count": 1,
   "outputs": [
    {
     "name": "stdout",
     "output_type": "stream",
     "text": [
      "sagemaker.config INFO - Not applying SDK defaults from location: /Library/Application Support/sagemaker/config.yaml\n",
      "sagemaker.config INFO - Not applying SDK defaults from location: /Users/hiroaki/Library/Application Support/sagemaker/config.yaml\n"
     ]
    }
   ],
   "source": [
    "import os\n",
    "\n",
    "from dotenv import load_dotenv\n",
    "from sagemaker.processing import ProcessingInput, ProcessingOutput\n",
    "from sagemaker.sklearn.processing import SKLearnProcessor\n",
    "\n",
    "from common.utils import get_role, get_processing_instance_type, generate_sagemaker_session"
   ],
   "metadata": {
    "collapsed": false,
    "ExecuteTime": {
     "end_time": "2023-10-10T22:19:32.945092Z",
     "start_time": "2023-10-10T22:19:31.603220Z"
    }
   },
   "id": "34607aa658261c9"
  },
  {
   "cell_type": "code",
   "execution_count": 2,
   "outputs": [
    {
     "name": "stdout",
     "output_type": "stream",
     "text": [
      "sagemaker.config INFO - Not applying SDK defaults from location: /Library/Application Support/sagemaker/config.yaml\n",
      "sagemaker.config INFO - Not applying SDK defaults from location: /Users/hiroaki/Library/Application Support/sagemaker/config.yaml\n",
      "sagemaker.config INFO - Not applying SDK defaults from location: /Library/Application Support/sagemaker/config.yaml\n",
      "sagemaker.config INFO - Not applying SDK defaults from location: /Users/hiroaki/Library/Application Support/sagemaker/config.yaml\n"
     ]
    },
    {
     "name": "stderr",
     "output_type": "stream",
     "text": [
      "INFO:sagemaker:Creating processing-job with name sagemaker-scikit-learn-2023-10-10-22-19-34-117\n",
      "INFO:sagemaker.local.image:'Docker Compose' found using Docker CLI.\n",
      "INFO:sagemaker.local.local_session:Starting processing job\n",
      "INFO:sagemaker.local.image:Using the long-lived AWS credentials found in session\n",
      "INFO:sagemaker.local.image:docker compose file: \n",
      "networks:\n",
      "  sagemaker-local:\n",
      "    name: sagemaker-local\n",
      "services:\n",
      "  algo-1-671vg:\n",
      "    container_name: xvhp89y0zk-algo-1-671vg\n",
      "    entrypoint:\n",
      "    - python3\n",
      "    - /opt/ml/processing/input/code/preprocessing.py\n",
      "    environment:\n",
      "    - '[Masked]'\n",
      "    - '[Masked]'\n",
      "    image: 354813040037.dkr.ecr.ap-northeast-1.amazonaws.com/sagemaker-scikit-learn:0.20.0-cpu-py3\n",
      "    networks:\n",
      "      sagemaker-local:\n",
      "        aliases:\n",
      "        - algo-1-671vg\n",
      "    stdin_open: true\n",
      "    tty: true\n",
      "    volumes:\n",
      "    - /private/var/folders/qg/p9z2yjzn6dl4fj3f9xr86w8w0000gn/T/tmpqb3pbedi/algo-1-671vg/output:/opt/ml/output\n",
      "    - /private/var/folders/qg/p9z2yjzn6dl4fj3f9xr86w8w0000gn/T/tmpqb3pbedi/algo-1-671vg/config:/opt/ml/config\n",
      "    - /private/var/folders/qg/p9z2yjzn6dl4fj3f9xr86w8w0000gn/T/tmp8wsab9mc:/opt/ml/processing/input\n",
      "    - /private/var/folders/qg/p9z2yjzn6dl4fj3f9xr86w8w0000gn/T/tmpg_nwwlpa:/opt/ml/processing/input/code\n",
      "    - /private/var/folders/qg/p9z2yjzn6dl4fj3f9xr86w8w0000gn/T/tmp9ctyq2ao/output/train:/opt/ml/processing/output/train\n",
      "    - /private/var/folders/qg/p9z2yjzn6dl4fj3f9xr86w8w0000gn/T/tmp9ctyq2ao/output/test:/opt/ml/processing/output/test\n",
      "    - /private/var/folders/qg/p9z2yjzn6dl4fj3f9xr86w8w0000gn/T/tmpqb3pbedi/shared:/opt/ml/shared\n",
      "version: '2.3'\n",
      "\n",
      "INFO:sagemaker.local.image:docker command: docker compose -f /private/var/folders/qg/p9z2yjzn6dl4fj3f9xr86w8w0000gn/T/tmpqb3pbedi/docker-compose.yaml up --build --abort-on-container-exit\n"
     ]
    },
    {
     "name": "stdout",
     "output_type": "stream",
     "text": [
      "time=\"2023-10-11T07:19:36+09:00\" level=warning msg=\"a network with name sagemaker-local exists but was not created for project \\\"tmpqb3pbedi\\\".\\nSet `external: true` to use an existing network\"\n",
      " Container xvhp89y0zk-algo-1-671vg  Creating\n",
      " algo-1-671vg The requested image's platform (linux/amd64) does not match the detected host platform (linux/arm64/v8) and no specific platform was requested \n",
      " Container xvhp89y0zk-algo-1-671vg  Created\n",
      "Attaching to xvhp89y0zk-algo-1-671vg\n",
      "xvhp89y0zk-algo-1-671vg  | /miniconda3/lib/python3.7/site-packages/sklearn/externals/joblib/externals/cloudpickle/cloudpickle.py:47: DeprecationWarning: the imp module is deprecated in favour of importlib; see the module's documentation for alternative uses\r\n",
      "xvhp89y0zk-algo-1-671vg  |   import imp\r\n",
      "xvhp89y0zk-algo-1-671vg  | /miniconda3/lib/python3.7/site-packages/sklearn/utils/validation.py:37: DeprecationWarning: distutils Version classes are deprecated. Use packaging.version instead.\r\n",
      "xvhp89y0zk-algo-1-671vg  |   LARGE_SPARSE_SUPPORTED = LooseVersion(scipy_version) >= '0.14.0'\r\n",
      "xvhp89y0zk-algo-1-671vg  | Received arguments Namespace(train_test_split_ratio=0.3)\r\n",
      "xvhp89y0zk-algo-1-671vg  | Reading input data from /opt/ml/processing/input/Bank.csv\r\n",
      "xvhp89y0zk-algo-1-671vg  | Saving training to /opt/ml/processing/output/train/train.csv\r\n",
      "xvhp89y0zk-algo-1-671vg  | Saving test to /opt/ml/processing/output/test/test.csv\r\n",
      "xvhp89y0zk-algo-1-671vg exited with code 0\n",
      "Aborting on container exit...\n",
      " Container xvhp89y0zk-algo-1-671vg  Stopping\n",
      " Container xvhp89y0zk-algo-1-671vg  Stopped\n",
      "===== Job Complete =====\n"
     ]
    }
   ],
   "source": [
    "load_dotenv()\n",
    "\n",
    "instance_type = get_processing_instance_type()\n",
    "processor = SKLearnProcessor(\n",
    "    framework_version='0.20.0',\n",
    "    role=get_role(),\n",
    "    instance_type=instance_type,\n",
    "    instance_count=1,\n",
    "    sagemaker_session=generate_sagemaker_session(instance_type),\n",
    ")\n",
    "\n",
    "s3_bucket = os.getenv('S3_BUCKET')\n",
    "s3_prefix = os.getenv('S3_PREFIX')\n",
    "\n",
    "processor.run(\n",
    "    code='preprocessing.py',\n",
    "    inputs=[\n",
    "        ProcessingInput(\n",
    "            source=f's3://{s3_bucket}/{s3_prefix}/data/Bank.csv',\n",
    "            destination='/opt/ml/processing/input')\n",
    "    ],\n",
    "    outputs=[\n",
    "        ProcessingOutput(\n",
    "            output_name=\"train\",\n",
    "            source=\"/opt/ml/processing/output/train\"),\n",
    "        ProcessingOutput(\n",
    "            output_name='test',\n",
    "            source='/opt/ml/processing/output/test'),\n",
    "    ]\n",
    ")"
   ],
   "metadata": {
    "collapsed": false,
    "ExecuteTime": {
     "end_time": "2023-10-10T22:19:43.443610Z",
     "start_time": "2023-10-10T22:19:34.088771Z"
    }
   },
   "id": "initial_id"
  }
 ],
 "metadata": {
  "kernelspec": {
   "name": "python3",
   "language": "python",
   "display_name": "Python 3 (ipykernel)"
  },
  "language_info": {
   "codemirror_mode": {
    "name": "ipython",
    "version": 3
   },
   "file_extension": ".py",
   "mimetype": "text/x-python",
   "name": "python",
   "nbconvert_exporter": "python",
   "pygments_lexer": "ipython3",
   "version": "3.10.12"
  }
 },
 "nbformat": 4,
 "nbformat_minor": 5
}
